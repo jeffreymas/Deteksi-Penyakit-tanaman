{
  "nbformat": 4,
  "nbformat_minor": 0,
  "metadata": {
    "colab": {
      "name": "DeteksiPenyakit_tanaman_Vgg16.ipynb",
      "provenance": [],
      "collapsed_sections": [],
      "toc_visible": true,
      "machine_shape": "hm",
      "include_colab_link": true
    },
    "kernelspec": {
      "name": "python3",
      "display_name": "Python 3"
    },
    "accelerator": "GPU"
  },
  "cells": [
    {
      "cell_type": "markdown",
      "metadata": {
        "id": "view-in-github",
        "colab_type": "text"
      },
      "source": [
        "<a href=\"https://colab.research.google.com/github/jeffreymas/Deteksi-Penyakit-tanaman/blob/master/DeteksiPenyakit_tanaman_Vgg16.ipynb\" target=\"_parent\"><img src=\"https://colab.research.google.com/assets/colab-badge.svg\" alt=\"Open In Colab\"/></a>"
      ]
    },
    {
      "cell_type": "markdown",
      "metadata": {
        "id": "oGkuR5rue-wg",
        "colab_type": "text"
      },
      "source": [
        "# Training a Plant Disease Diagnosis Model with PlantVillage Dataset"
      ]
    },
    {
      "cell_type": "code",
      "metadata": {
        "id": "0DbSbnYUnOvy",
        "colab_type": "code",
        "outputId": "b2a0e10d-d0b1-45eb-9f3e-249d95296d8c",
        "colab": {
          "base_uri": "https://localhost:8080/",
          "height": 81
        }
      },
      "source": [
        "import numpy as np\n",
        "import os\n",
        "import matplotlib.pyplot as plt\n",
        "plt.style.use('default')\n",
        "from skimage.io import imread\n",
        "from sklearn.metrics import classification_report, confusion_matrix\n",
        "from sklearn.model_selection import train_test_split\n",
        "\n",
        "\n",
        "import keras\n",
        "import keras.backend as K\n",
        "from keras.preprocessing.image import load_img, img_to_array, ImageDataGenerator\n",
        "from keras.utils.np_utils import to_categorical\n",
        "\n",
        "from keras.applications.vgg16 import VGG16\n",
        "from keras.utils.data_utils import get_file\n",
        "\n",
        "from keras import layers\n",
        "from keras.models import Sequential, Model\n",
        "from keras.callbacks import EarlyStopping, ModelCheckpoint\n",
        "\n",
        "\n",
        "from sklearn.model_selection import train_test_split"
      ],
      "execution_count": 0,
      "outputs": [
        {
          "output_type": "stream",
          "text": [
            "Using TensorFlow backend.\n"
          ],
          "name": "stderr"
        },
        {
          "output_type": "display_data",
          "data": {
            "text/html": [
              "<p style=\"color: red;\">\n",
              "The default version of TensorFlow in Colab will soon switch to TensorFlow 2.x.<br>\n",
              "We recommend you <a href=\"https://www.tensorflow.org/guide/migrate\" target=\"_blank\">upgrade</a> now \n",
              "or ensure your notebook will continue to use TensorFlow 1.x via the <code>%tensorflow_version 1.x</code> magic:\n",
              "<a href=\"https://colab.research.google.com/notebooks/tensorflow_version.ipynb\" target=\"_blank\">more info</a>.</p>\n"
            ],
            "text/plain": [
              "<IPython.core.display.HTML object>"
            ]
          },
          "metadata": {
            "tags": []
          }
        }
      ]
    },
    {
      "cell_type": "markdown",
      "metadata": {
        "id": "g426U4uPiRHp",
        "colab_type": "text"
      },
      "source": [
        "# Persiapan"
      ]
    },
    {
      "cell_type": "markdown",
      "metadata": {
        "id": "sSN_txlHfJNU",
        "colab_type": "text"
      },
      "source": [
        "## Pengambilan Data "
      ]
    },
    {
      "cell_type": "code",
      "metadata": {
        "id": "x4jjTgsFe4q8",
        "colab_type": "code",
        "colab": {}
      },
      "source": [
        "!apt-get install subversion > /dev/null\n",
        "\n",
        "#Retreive specifc diseases of tomato for training\n",
        "!svn export https://github.com/spMohanty/PlantVillage-Dataset/trunk/raw/color/Tomato___Bacterial_spot image/Tomato___Bacterial_spot　>  /dev/null\n",
        "!svn export https://github.com/spMohanty/PlantVillage-Dataset/trunk/raw/color/Tomato___Early_blight image/Tomato___Early_blight　>  /dev/null\n",
        "!svn export https://github.com/spMohanty/PlantVillage-Dataset/trunk/raw/color/Tomato___Late_blight image/Tomato___Late_blight　>  /dev/null\n",
        "!svn export https://github.com/spMohanty/PlantVillage-Dataset/trunk/raw/color/Tomato___Septoria_leaf_spot image/Tomato___Septoria_leaf_spot　>  /dev/null\n",
        "!svn export https://github.com/spMohanty/PlantVillage-Dataset/trunk/raw/color/Tomato___Target_Spot image/Tomato___Target_Spot　>  /dev/null\n",
        "!svn export https://github.com/spMohanty/PlantVillage-Dataset/trunk/raw/color/Tomato___healthy image/Tomato___healthy　>  /dev/null\n",
        "!svn export https://github.com/spMohanty/PlantVillage-Dataset/trunk/raw/color/Tomato___Tomato_mosaic_virus image/Tomato___mosaic_virus >  /dev/null\n",
        "!svn export https://github.com/spMohanty/PlantVillage-Dataset/trunk/raw/color/Tomato___Spider_mites%20Two-spotted_spider_mite image/Tomato___Spider_mites_20Two-spotted_spider_mite >  /dev/null\n",
        "!svn export https://github.com/spMohanty/PlantVillage-Dataset/trunk/raw/color/Tomato___Leaf_Mold image/Tomato___Leaf_Mold >  /dev/null\n",
        "!svn export https://github.com/spMohanty/PlantVillage-Dataset/trunk/raw/color/Tomato___Tomato_Yellow_Leaf_Curl_Virus image/Tomato___Yellow_Leaf_Curl_Virus >  /dev/null\n",
        "!svn export https://github.com/icassava/fgvcx-icassava/trunk/data/train/cbb image/Cassava___cbb > /dev/null\n",
        "!svn export https://github.com/icassava/fgvcx-icassava/trunk/data/train/cbsd image/Cassava___cbsd > /dev/null\n",
        "!svn export https://github.com/icassava/fgvcx-icassava/trunk/data/train/cgm image/Cassava___cgm > /dev/null\n",
        "!svn export https://github.com/icassava/fgvcx-icassava/trunk/data/train/cmd image/Cassava___cmd > /dev/null\n",
        "!svn export https://github.com/icassava/fgvcx-icassava/trunk/data/train/healthy image/Cassava___healthy > /dev/null"
      ],
      "execution_count": 0,
      "outputs": []
    },
    {
      "cell_type": "code",
      "metadata": {
        "id": "aNhZKWt5jeJV",
        "colab_type": "code",
        "outputId": "85ba5899-6ca9-4f0a-fcfe-d14fe8e07611",
        "colab": {
          "base_uri": "https://localhost:8080/",
          "height": 156
        }
      },
      "source": [
        "#folder structure\n",
        "!ls image"
      ],
      "execution_count": 0,
      "outputs": [
        {
          "output_type": "stream",
          "text": [
            "Cassava___cbb\t\t   Tomato___Late_blight　\n",
            "Cassava___cbsd\t\t   Tomato___Leaf_Mold\n",
            "Cassava___cgm\t\t   Tomato___mosaic_virus\n",
            "Cassava___cmd\t\t   Tomato___Septoria_leaf_spot　\n",
            "Cassava___healthy\t   Tomato___Spider_mites_20Two-spotted_spider_mite\n",
            "Tomato___Bacterial_spot　  Tomato___Target_Spot　\n",
            "Tomato___Early_blight　    Tomato___Yellow_Leaf_Curl_Virus\n",
            "Tomato___healthy　\n"
          ],
          "name": "stdout"
        }
      ]
    },
    {
      "cell_type": "code",
      "metadata": {
        "id": "z_Zv9KQT6hxr",
        "colab_type": "code",
        "outputId": "f90d2a65-1002-405d-87a4-5d2f178fb2d1",
        "colab": {
          "base_uri": "https://localhost:8080/",
          "height": 1000
        }
      },
      "source": [
        "plt.figure(figsize=(15,10))\n",
        "\n",
        "#visualize several images\n",
        "\n",
        "parent_directory = \"image\"\n",
        "\n",
        "for i, folder in enumerate(os.listdir(parent_directory)):\n",
        "    print(folder)\n",
        "    folder_directory = os.path.join(parent_directory,folder)\n",
        "    files = os.listdir(folder_directory)\n",
        "    #will inspect only 1 image per folder\n",
        "    file = files[0] \n",
        "    file_path = os.path.join(folder_directory,file)\n",
        "    \n",
        "    image = imread(file_path)\n",
        "    plt.subplot(1,15,i+1)\n",
        "    plt.imshow(image)\n",
        "    plt.axis(\"off\")\n",
        "    \n",
        "    name = folder.split(\"___\")[1][:-1]\n",
        "    plt.title(name)\n",
        "    plt.show()"
      ],
      "execution_count": 0,
      "outputs": [
        {
          "output_type": "stream",
          "text": [
            "Tomato___Target_Spot　\n"
          ],
          "name": "stdout"
        },
        {
          "output_type": "display_data",
          "data": {
            "image/png": "[encoded data removed]",
            "text/plain": [
              "<Figure size 1500x1000 with 1 Axes>"
            ]
          },
          "metadata": {
            "tags": []
          }
        },
        {
          "output_type": "stream",
          "text": [
            "Cassava___healthy\n"
          ],
          "name": "stdout"
        },
        {
          "output_type": "display_data",
          "data": {
            "image/png": "[encoded data removed]",
            "text/plain": [
              "<Figure size 640x480 with 1 Axes>"
            ]
          },
          "metadata": {
            "tags": []
          }
        },
        {
          "output_type": "stream",
          "text": [
            "Tomato___Early_blight　\n"
          ],
          "name": "stdout"
        },
        {
          "output_type": "display_data",
          "data": {
            "image/png": "[encoded data removed]",
            "text/plain": [
              "<Figure size 640x480 with 1 Axes>"
            ]
          },
          "metadata": {
            "tags": []
          }
        },
        {
          "output_type": "stream",
          "text": [
            "Cassava___cbb\n"
          ],
          "name": "stdout"
        },
        {
          "output_type": "display_data",
          "data": {
            "image/png": "[encoded data removed]",
            "text/plain": [
              "<Figure size 640x480 with 1 Axes>"
            ]
          },
          "metadata": {
            "tags": []
          }
        },
        {
          "output_type": "stream",
          "text": [
            "Tomato___Yellow_Leaf_Curl_Virus\n"
          ],
          "name": "stdout"
        },
        {
          "output_type": "display_data",
          "data": {
            "image/png": "[encoded data removed]",
            "text/plain": [
              "<Figure size 640x480 with 1 Axes>"
            ]
          },
          "metadata": {
            "tags": []
          }
        },
        {
          "output_type": "stream",
          "text": [
            "Tomato___Leaf_Mold\n"
          ],
          "name": "stdout"
        },
        {
          "output_type": "display_data",
          "data": {
            "image/png": "[encoded data removed]",
            "text/plain": [
              "<Figure size 640x480 with 1 Axes>"
            ]
          },
          "metadata": {
            "tags": []
          }
        },
        {
          "output_type": "stream",
          "text": [
            "Tomato___Spider_mites_20Two-spotted_spider_mite\n"
          ],
          "name": "stdout"
        },
        {
          "output_type": "display_data",
          "data": {
            "image/png": "[encoded data removed]",
            "text/plain": [
              "<Figure size 640x480 with 1 Axes>"
            ]
          },
          "metadata": {
            "tags": []
          }
        },
        {
          "output_type": "stream",
          "text": [
            "Cassava___cgm\n"
          ],
          "name": "stdout"
        },
        {
          "output_type": "display_data",
          "data": {
            "image/png": "[encoded data removed]",
            "text/plain": [
              "<Figure size 640x480 with 1 Axes>"
            ]
          },
          "metadata": {
            "tags": []
          }
        },
        {
          "output_type": "stream",
          "text": [
            "Cassava___cmd\n"
          ],
          "name": "stdout"
        },
        {
          "output_type": "display_data",
          "data": {
            "image/png": "[encoded data removed]",
            "text/plain": [
              "<Figure size 640x480 with 1 Axes>"
            ]
          },
          "metadata": {
            "tags": []
          }
        },
        {
          "output_type": "stream",
          "text": [
            "Tomato___Bacterial_spot　\n"
          ],
          "name": "stdout"
        },
        {
          "output_type": "display_data",
          "data": {
            "image/png": "[encoded data removed]",
            "text/plain": [
              "<Figure size 640x480 with 1 Axes>"
            ]
          },
          "metadata": {
            "tags": []
          }
        },
        {
          "output_type": "stream",
          "text": [
            "Tomato___Late_blight　\n"
          ],
          "name": "stdout"
        },
        {
          "output_type": "display_data",
          "data": {
            "image/png": "[encoded data removed]",
            "text/plain": [
              "<Figure size 640x480 with 1 Axes>"
            ]
          },
          "metadata": {
            "tags": []
          }
        },
        {
          "output_type": "stream",
          "text": [
            "Cassava___cbsd\n"
          ],
          "name": "stdout"
        },
        {
          "output_type": "display_data",
          "data": {
            "image/png": "[encoded data removed]",
            "text/plain": [
              "<Figure size 640x480 with 1 Axes>"
            ]
          },
          "metadata": {
            "tags": []
          }
        },
        {
          "output_type": "stream",
          "text": [
            "Tomato___mosaic_virus\n"
          ],
          "name": "stdout"
        },
        {
          "output_type": "display_data",
          "data": {
            "image/png": "[encoded data removed]",
            "text/plain": [
              "<Figure size 640x480 with 1 Axes>"
            ]
          },
          "metadata": {
            "tags": []
          }
        },
        {
          "output_type": "stream",
          "text": [
            "Tomato___healthy　\n"
          ],
          "name": "stdout"
        },
        {
          "output_type": "display_data",
          "data": {
            "image/png": "[encoded data removed]",
            "text/plain": [
              "<Figure size 640x480 with 1 Axes>"
            ]
          },
          "metadata": {
            "tags": []
          }
        },
        {
          "output_type": "stream",
          "text": [
            "Tomato___Septoria_leaf_spot　\n"
          ],
          "name": "stdout"
        },
        {
          "output_type": "display_data",
          "data": {
            "image/png": "[encoded data removed]",
            "text/plain": [
              "<Figure size 640x480 with 1 Axes>"
            ]
          },
          "metadata": {
            "tags": []
          }
        }
      ]
    },
    {
      "cell_type": "code",
      "metadata": {
        "id": "j4w9gq1DAEUq",
        "colab_type": "code",
        "outputId": "ffffde35-0154-4f53-b48f-654401f55a66",
        "colab": {
          "base_uri": "https://localhost:8080/",
          "height": 969
        }
      },
      "source": [
        "#load everything into memory\n",
        "x = []\n",
        "y = []\n",
        "class_names = ['Cassava___cbb','Cassava___cbsd','Cassava___cgm','Cassava___cmd','Cassava___healthy','Tomato___Bacterial_spot','Tomato___Early_blight','Tomato___healthy','Tomato___Late_blight','Tomato___Leaf_Mold','Tomato___mosaic_virus','Tomato___Septoria_leaf_spot','Tomato___Spider_mites_20Two-spotted_spider_mite','Tomato___Target_Spot','Tomato___Yellow_Leaf_Curl_Virus']\n",
        "parent_directory = \"image\"\n",
        "\n",
        "for i,folder in enumerate(class_names):\n",
        "    print(i,folder)\n",
        "    class_names.append(folder)\n",
        "    folder_directory = os.path.join(parent_directory,folder)\n",
        "    files = os.listdir(folder_directory)\n",
        "    #will inspect only 1 image per folder\n",
        "    for file in files:\n",
        "        file_path = os.path.join(folder_directory,file)\n",
        "        image = load_img(file_path,target_size=(64,64))\n",
        "        image = img_to_array(image)/255.\n",
        "        x.append(image)\n",
        "        y.append(i)\n",
        "\n",
        "x = np.array(x)\n",
        "y = to_categorical(y)"
      ],
      "execution_count": 0,
      "outputs": [
        {
          "output_type": "stream",
          "text": [
            "0 Cassava___cbb\n",
            "1 Cassava___cbsd\n",
            "2 Cassava___cgm\n",
            "3 Cassava___cmd\n",
            "4 Cassava___healthy\n",
            "5 Tomato___Bacterial_spot\n",
            "6 Tomato___Early_blight\n",
            "7 Tomato___healthy\n",
            "8 Tomato___Late_blight\n",
            "9 Tomato___Leaf_Mold\n",
            "10 Tomato___mosaic_virus\n",
            "11 Tomato___Septoria_leaf_spot\n",
            "12 Tomato___Spider_mites_20Two-spotted_spider_mite\n",
            "13 Tomato___Target_Spot\n",
            "14 Tomato___Yellow_Leaf_Curl_Virus\n",
            "15 Cassava___cbb\n",
            "16 Cassava___cbsd\n",
            "17 Cassava___cgm\n",
            "18 Cassava___cmd\n",
            "19 Cassava___healthy\n",
            "20 Tomato___Bacterial_spot\n",
            "21 Tomato___Early_blight\n",
            "22 Tomato___healthy\n",
            "23 Tomato___Late_blight\n",
            "24 Tomato___Leaf_Mold\n",
            "25 Tomato___mosaic_virus\n",
            "26 Tomato___Septoria_leaf_spot\n",
            "27 Tomato___Spider_mites_20Two-spotted_spider_mite\n",
            "28 Tomato___Target_Spot\n",
            "29 Tomato___Yellow_Leaf_Curl_Virus\n",
            "30 Cassava___cbb\n",
            "31 Cassava___cbsd\n",
            "32 Cassava___cgm\n",
            "33 Cassava___cmd\n"
          ],
          "name": "stdout"
        },
        {
          "output_type": "error",
          "ename": "KeyboardInterrupt",
          "evalue": "ignored",
          "traceback": [
            "\u001b[0;31m---------------------------------------------------------------------------\u001b[0m",
            "\u001b[0;31mKeyboardInterrupt\u001b[0m                         Traceback (most recent call last)",
            "\u001b[0;32m<ipython-input-9-45ac3679cb7b>\u001b[0m in \u001b[0;36m<module>\u001b[0;34m()\u001b[0m\n\u001b[1;32m     12\u001b[0m     \u001b[0;32mfor\u001b[0m \u001b[0mfile\u001b[0m \u001b[0;32min\u001b[0m \u001b[0mfiles\u001b[0m\u001b[0;34m:\u001b[0m\u001b[0;34m\u001b[0m\u001b[0;34m\u001b[0m\u001b[0m\n\u001b[1;32m     13\u001b[0m         \u001b[0mfile_path\u001b[0m \u001b[0;34m=\u001b[0m \u001b[0mos\u001b[0m\u001b[0;34m.\u001b[0m\u001b[0mpath\u001b[0m\u001b[0;34m.\u001b[0m\u001b[0mjoin\u001b[0m\u001b[0;34m(\u001b[0m\u001b[0mfolder_directory\u001b[0m\u001b[0;34m,\u001b[0m\u001b[0mfile\u001b[0m\u001b[0;34m)\u001b[0m\u001b[0;34m\u001b[0m\u001b[0;34m\u001b[0m\u001b[0m\n\u001b[0;32m---> 14\u001b[0;31m         \u001b[0mimage\u001b[0m \u001b[0;34m=\u001b[0m \u001b[0mload_img\u001b[0m\u001b[0;34m(\u001b[0m\u001b[0mfile_path\u001b[0m\u001b[0;34m,\u001b[0m\u001b[0mtarget_size\u001b[0m\u001b[0;34m=\u001b[0m\u001b[0;34m(\u001b[0m\u001b[0;36m64\u001b[0m\u001b[0;34m,\u001b[0m\u001b[0;36m64\u001b[0m\u001b[0;34m)\u001b[0m\u001b[0;34m)\u001b[0m\u001b[0;34m\u001b[0m\u001b[0;34m\u001b[0m\u001b[0m\n\u001b[0m\u001b[1;32m     15\u001b[0m         \u001b[0mimage\u001b[0m \u001b[0;34m=\u001b[0m \u001b[0mimg_to_array\u001b[0m\u001b[0;34m(\u001b[0m\u001b[0mimage\u001b[0m\u001b[0;34m)\u001b[0m\u001b[0;34m/\u001b[0m\u001b[0;36m255.\u001b[0m\u001b[0;34m\u001b[0m\u001b[0;34m\u001b[0m\u001b[0m\n\u001b[1;32m     16\u001b[0m         \u001b[0mx\u001b[0m\u001b[0;34m.\u001b[0m\u001b[0mappend\u001b[0m\u001b[0;34m(\u001b[0m\u001b[0mimage\u001b[0m\u001b[0;34m)\u001b[0m\u001b[0;34m\u001b[0m\u001b[0;34m\u001b[0m\u001b[0m\n",
            "\u001b[0;32m/usr/local/lib/python3.6/dist-packages/keras_preprocessing/image/utils.py\u001b[0m in \u001b[0;36mload_img\u001b[0;34m(path, grayscale, color_mode, target_size, interpolation)\u001b[0m\n\u001b[1;32m    130\u001b[0m                         \", \".join(_PIL_INTERPOLATION_METHODS.keys())))\n\u001b[1;32m    131\u001b[0m             \u001b[0mresample\u001b[0m \u001b[0;34m=\u001b[0m \u001b[0m_PIL_INTERPOLATION_METHODS\u001b[0m\u001b[0;34m[\u001b[0m\u001b[0minterpolation\u001b[0m\u001b[0;34m]\u001b[0m\u001b[0;34m\u001b[0m\u001b[0;34m\u001b[0m\u001b[0m\n\u001b[0;32m--> 132\u001b[0;31m             \u001b[0mimg\u001b[0m \u001b[0;34m=\u001b[0m \u001b[0mimg\u001b[0m\u001b[0;34m.\u001b[0m\u001b[0mresize\u001b[0m\u001b[0;34m(\u001b[0m\u001b[0mwidth_height_tuple\u001b[0m\u001b[0;34m,\u001b[0m \u001b[0mresample\u001b[0m\u001b[0;34m)\u001b[0m\u001b[0;34m\u001b[0m\u001b[0;34m\u001b[0m\u001b[0m\n\u001b[0m\u001b[1;32m    133\u001b[0m     \u001b[0;32mreturn\u001b[0m \u001b[0mimg\u001b[0m\u001b[0;34m\u001b[0m\u001b[0;34m\u001b[0m\u001b[0m\n\u001b[1;32m    134\u001b[0m \u001b[0;34m\u001b[0m\u001b[0m\n",
            "\u001b[0;32m/usr/local/lib/python3.6/dist-packages/PIL/Image.py\u001b[0m in \u001b[0;36mresize\u001b[0;34m(self, size, resample, box)\u001b[0m\n\u001b[1;32m   1741\u001b[0m             \u001b[0;32mreturn\u001b[0m \u001b[0mself\u001b[0m\u001b[0;34m.\u001b[0m\u001b[0mconvert\u001b[0m\u001b[0;34m(\u001b[0m\u001b[0;34m'RGBa'\u001b[0m\u001b[0;34m)\u001b[0m\u001b[0;34m.\u001b[0m\u001b[0mresize\u001b[0m\u001b[0;34m(\u001b[0m\u001b[0msize\u001b[0m\u001b[0;34m,\u001b[0m \u001b[0mresample\u001b[0m\u001b[0;34m,\u001b[0m \u001b[0mbox\u001b[0m\u001b[0;34m)\u001b[0m\u001b[0;34m.\u001b[0m\u001b[0mconvert\u001b[0m\u001b[0;34m(\u001b[0m\u001b[0;34m'RGBA'\u001b[0m\u001b[0;34m)\u001b[0m\u001b[0;34m\u001b[0m\u001b[0;34m\u001b[0m\u001b[0m\n\u001b[1;32m   1742\u001b[0m \u001b[0;34m\u001b[0m\u001b[0m\n\u001b[0;32m-> 1743\u001b[0;31m         \u001b[0mself\u001b[0m\u001b[0;34m.\u001b[0m\u001b[0mload\u001b[0m\u001b[0;34m(\u001b[0m\u001b[0;34m)\u001b[0m\u001b[0;34m\u001b[0m\u001b[0;34m\u001b[0m\u001b[0m\n\u001b[0m\u001b[1;32m   1744\u001b[0m \u001b[0;34m\u001b[0m\u001b[0m\n\u001b[1;32m   1745\u001b[0m         \u001b[0;32mreturn\u001b[0m \u001b[0mself\u001b[0m\u001b[0;34m.\u001b[0m\u001b[0m_new\u001b[0m\u001b[0;34m(\u001b[0m\u001b[0mself\u001b[0m\u001b[0;34m.\u001b[0m\u001b[0mim\u001b[0m\u001b[0;34m.\u001b[0m\u001b[0mresize\u001b[0m\u001b[0;34m(\u001b[0m\u001b[0msize\u001b[0m\u001b[0;34m,\u001b[0m \u001b[0mresample\u001b[0m\u001b[0;34m,\u001b[0m \u001b[0mbox\u001b[0m\u001b[0;34m)\u001b[0m\u001b[0;34m)\u001b[0m\u001b[0;34m\u001b[0m\u001b[0;34m\u001b[0m\u001b[0m\n",
            "\u001b[0;32m/usr/local/lib/python3.6/dist-packages/PIL/ImageFile.py\u001b[0m in \u001b[0;36mload\u001b[0;34m(self)\u001b[0m\n\u001b[1;32m    234\u001b[0m \u001b[0;34m\u001b[0m\u001b[0m\n\u001b[1;32m    235\u001b[0m                         \u001b[0mb\u001b[0m \u001b[0;34m=\u001b[0m \u001b[0mb\u001b[0m \u001b[0;34m+\u001b[0m \u001b[0ms\u001b[0m\u001b[0;34m\u001b[0m\u001b[0;34m\u001b[0m\u001b[0m\n\u001b[0;32m--> 236\u001b[0;31m                         \u001b[0mn\u001b[0m\u001b[0;34m,\u001b[0m \u001b[0merr_code\u001b[0m \u001b[0;34m=\u001b[0m \u001b[0mdecoder\u001b[0m\u001b[0;34m.\u001b[0m\u001b[0mdecode\u001b[0m\u001b[0;34m(\u001b[0m\u001b[0mb\u001b[0m\u001b[0;34m)\u001b[0m\u001b[0;34m\u001b[0m\u001b[0;34m\u001b[0m\u001b[0m\n\u001b[0m\u001b[1;32m    237\u001b[0m                         \u001b[0;32mif\u001b[0m \u001b[0mn\u001b[0m \u001b[0;34m<\u001b[0m \u001b[0;36m0\u001b[0m\u001b[0;34m:\u001b[0m\u001b[0;34m\u001b[0m\u001b[0;34m\u001b[0m\u001b[0m\n\u001b[1;32m    238\u001b[0m                             \u001b[0;32mbreak\u001b[0m\u001b[0;34m\u001b[0m\u001b[0;34m\u001b[0m\u001b[0m\n",
            "\u001b[0;31mKeyboardInterrupt\u001b[0m: "
          ]
        }
      ]
    },
    {
      "cell_type": "code",
      "metadata": {
        "id": "x6ZshzbdBiMl",
        "colab_type": "code",
        "colab": {}
      },
      "source": [
        "#check the data shape\n",
        "print(x.shape)\n",
        "print(y.shape)\n",
        "print(y[0])"
      ],
      "execution_count": 0,
      "outputs": []
    },
    {
      "cell_type": "code",
      "metadata": {
        "id": "0cJXZ4agBtT-",
        "colab_type": "code",
        "colab": {}
      },
      "source": [
        "x_train, _x, y_train, _y = train_test_split(x,y,test_size=0.2, stratify = y, random_state = 1)\n",
        "x_valid,x_test, y_valid, y_test = train_test_split(_x,_y,test_size=0.4, stratify = _y, random_state = 1)\n",
        "\n",
        "print(\"train data:\",x_train.shape,y_train.shape)\n",
        "print(\"validation data:\",x_valid.shape,y_valid.shape)\n",
        "print(\"test data:\",x_test.shape,y_test.shape)\n"
      ],
      "execution_count": 0,
      "outputs": []
    },
    {
      "cell_type": "markdown",
      "metadata": {
        "id": "ma87VMOBoX-k",
        "colab_type": "text"
      },
      "source": [
        "## Model Preparation"
      ]
    },
    {
      "cell_type": "code",
      "metadata": {
        "id": "kncFFJtljmbh",
        "colab_type": "code",
        "colab": {}
      },
      "source": [
        "K.clear_session()\n",
        "\n",
        "nfilter = 32\n",
        "\n",
        "\n",
        "#VGG16 like model\n",
        "model = Sequential([\n",
        "    #feature extraction layer\n",
        "    \n",
        "    #block1\n",
        "    layers.Conv2D(64,(3,3),padding=\"same\",name=\"block1_conv1\",input_shape=(64,64,3)),\n",
        "    layers.BatchNormalization(),\n",
        "    layers.Activation(\"relu\"),\n",
        "    layers.Conv2D(64,(3,3),padding=\"same\",name=\"block1_conv2\"),\n",
        "    layers.BatchNormalization(),\n",
        "    layers.Activation(\"relu\"),\n",
        "    layers.MaxPooling2D((2,2),strides=(2,2),name=\"block1_pool\"),\n",
        "    #block2\n",
        "    layers.Conv2D(128,(3,3),padding=\"same\",name=\"block2_conv1\"),\n",
        "    layers.BatchNormalization(),\n",
        "    layers.Activation(\"relu\"),\n",
        "    layers.Conv2D(128,(3,3),padding=\"same\",name=\"block2_conv2\"),\n",
        "    layers.BatchNormalization(),\n",
        "    layers.Activation(\"relu\"),\n",
        "    layers.MaxPooling2D((2,2),strides=(2,2),name=\"block2_pool\"),\n",
        "    #block3\n",
        "    layers.Conv2D(256,(3,3),padding=\"same\",name=\"block3_conv1\"),\n",
        "    layers.BatchNormalization(),\n",
        "    layers.Activation(\"relu\"),\n",
        "    layers.Conv2D(256,(3,3),padding=\"same\",name=\"block3_conv2\"),\n",
        "    layers.BatchNormalization(),\n",
        "    layers.Activation(\"relu\"),\n",
        "    layers.Conv2D(256,(3,3),padding=\"same\",name=\"block3_conv3\"),\n",
        "    layers.BatchNormalization(),\n",
        "    layers.Activation(\"relu\"),\n",
        "    layers.MaxPooling2D((2,2),strides=(2,2),name=\"block3_pool\"),\n",
        "\n",
        "    #block4\n",
        "    layers.Conv2D(512,(3,3),padding=\"same\",name=\"block4_conv1\"),\n",
        "    layers.BatchNormalization(),\n",
        "    layers.Activation(\"relu\"),\n",
        "    layers.Conv2D(512,(3,3),padding=\"same\",name=\"block4_conv2\"),\n",
        "    layers.BatchNormalization(),\n",
        "    layers.Activation(\"relu\"),\n",
        "    layers.Conv2D(512,(3,3),padding=\"same\",name=\"block4_conv3\"),\n",
        "    layers.BatchNormalization(),\n",
        "    layers.Activation(\"relu\"),\n",
        "    layers.MaxPooling2D((2,2),strides=(2,2),name=\"block4_pool\"),\n",
        "\n",
        "    #block5\n",
        "    layers.Conv2D(512,(3,3),padding=\"same\",name=\"block5_conv1\"),\n",
        "    layers.BatchNormalization(),\n",
        "    layers.Activation(\"relu\"),\n",
        "    layers.Conv2D(512,(3,3),padding=\"same\",name=\"block5_conv2\"),\n",
        "    layers.BatchNormalization(),\n",
        "    layers.Activation(\"relu\"),\n",
        "    layers.Conv2D(512,(3,3),padding=\"same\",name=\"block5_conv3\"),\n",
        "    layers.BatchNormalization(),\n",
        "    layers.Activation(\"relu\"),\n",
        "    layers.MaxPooling2D((2,2),strides=(2,2),name=\"block5_pool\"),\n",
        "\n",
        "    layers.Flatten(),\n",
        "    \n",
        "    #inference layer\n",
        "    layers.Dense(512,name=\"fc1\"),\n",
        "    layers.BatchNormalization(),\n",
        "    layers.Activation(\"relu\"),\n",
        "    layers.Dropout(0.5),\n",
        "    \n",
        "    layers.Dense(512,name=\"fc2\"),\n",
        "    layers.BatchNormalization(),\n",
        "    layers.Activation(\"relu\"),    \n",
        "    layers.Dropout(0.5),\n",
        "    \n",
        "    layers.Dense(15,name=\"prepredictions\"),\n",
        "    layers.Activation(\"softmax\",name=\"predictions\")\n",
        "    \n",
        "])\n",
        "\n",
        "model.compile(optimizer = \"adam\", loss=\"categorical_crossentropy\", metrics=[\"accuracy\"])"
      ],
      "execution_count": 0,
      "outputs": []
    },
    {
      "cell_type": "markdown",
      "metadata": {
        "id": "CMqZzhiztiv0",
        "colab_type": "text"
      },
      "source": [
        "## Training"
      ]
    },
    {
      "cell_type": "code",
      "metadata": {
        "id": "_bxsVtqBFmoH",
        "colab_type": "code",
        "colab": {}
      },
      "source": [
        "#utilize early stopping function to stop at the lowest validation loss\n",
        "#es = EarlyStopping(monitor='val_loss', patience=10, verbose=1, mode='auto')\n",
        "#utilize save best weight model during training\n",
        "ckpt = ModelCheckpoint(\"DeteksiPenyakitTanaman.hdf5\", monitor='val_loss', verbose=1, save_best_only=True, save_weights_only=False, mode='auto', period=1)"
      ],
      "execution_count": 0,
      "outputs": []
    },
    {
      "cell_type": "code",
      "metadata": {
        "id": "-BEzeqUZofYP",
        "colab_type": "code",
        "colab": {}
      },
      "source": [
        "#we will define a generator class for training data and validation data seperately, as no augmentation is not required for validation data\n",
        "t_gen = ImageDataGenerator(rotation_range=90,horizontal_flip=True)\n",
        "v_gen = ImageDataGenerator()\n",
        "train_gen = t_gen.flow(x_train,y_train,batch_size=98)\n",
        "valid_gen = v_gen.flow(x_valid,y_valid,batch_size=98)"
      ],
      "execution_count": 0,
      "outputs": []
    },
    {
      "cell_type": "code",
      "metadata": {
        "id": "eglAa6dhGoc9",
        "colab_type": "code",
        "colab": {}
      },
      "source": [
        "history = model.fit_generator(\n",
        "    train_gen,\n",
        "    steps_per_epoch = train_gen.n // 98,\n",
        "    callbacks = [ckpt],\n",
        "    #callbacks = [es,ckpt],\n",
        "    validation_data = valid_gen,\n",
        "    validation_steps = valid_gen.n // 98,\n",
        "    \n",
        "    epochs=5)"
      ],
      "execution_count": 0,
      "outputs": []
    },
    {
      "cell_type": "markdown",
      "metadata": {
        "id": "f481o6lhQDtm",
        "colab_type": "text"
      },
      "source": [
        "## Evaluation"
      ]
    },
    {
      "cell_type": "code",
      "metadata": {
        "id": "vMivaFVWubGk",
        "colab_type": "code",
        "colab": {}
      },
      "source": [
        "#load the model weight file with lowest validation loss\n",
        "model.load_weights(\"DeteksiPenyakitTanaman.hdf5\")"
      ],
      "execution_count": 0,
      "outputs": []
    },
    {
      "cell_type": "code",
      "metadata": {
        "id": "fhxE8TK0Mvrx",
        "colab_type": "code",
        "colab": {}
      },
      "source": [
        "#check the model metrics\n",
        "print(model.metrics_names)\n",
        "#evaluate training data\n",
        "print(model.evaluate(x= x_train, y = y_train))\n",
        "#evaluate  validation data\n",
        "print(model.evaluate(x= x_valid, y = y_valid))\n",
        "#evaluate  test data\n",
        "print(model.evaluate(x= x_test, y = y_test))      "
      ],
      "execution_count": 0,
      "outputs": []
    },
    {
      "cell_type": "code",
      "metadata": {
        "id": "GLkicY6kMyC7",
        "colab_type": "code",
        "colab": {}
      },
      "source": [
        "#draw a confusion matrix\n",
        "\n",
        "#true label\n",
        "y_true = np.argmax(y_test,axis=1)\n",
        "\n",
        "#prediction label\n",
        "Y_pred = model.predict(x_test)\n",
        "y_pred = np.argmax(Y_pred, axis=1)\n",
        "\n",
        "print(y_true)\n",
        "print(y_pred)"
      ],
      "execution_count": 0,
      "outputs": []
    },
    {
      "cell_type": "code",
      "metadata": {
        "id": "Zj76uI3vy_xJ",
        "colab_type": "code",
        "colab": {}
      },
      "source": [
        "#https://scikit-learn.org/stable/auto_examples/model_selection/plot_confusion_matrix.html#sphx-glr-auto-examples-model-selection-plot-confusion-matrix-py\n",
        "from sklearn.metrics import confusion_matrix\n",
        "from sklearn.utils.multiclass import unique_labels\n",
        "\n",
        "def plot_confusion_matrix(y_true, y_pred, classes,\n",
        "                          normalize=False,\n",
        "                          title=None,\n",
        "                          cmap=plt.cm.Blues):\n",
        "    \"\"\"\n",
        "    This function prints and plots the confusion matrix.\n",
        "    Normalization can be applied by setting `normalize=True`.\n",
        "    \"\"\"\n",
        "    if not title:\n",
        "        if normalize:\n",
        "            title = 'Normalized confusion matrix'\n",
        "        else:\n",
        "            title = 'Confusion matrix, without normalization'\n",
        "\n",
        "    # Compute confusion matrix\n",
        "    cm = confusion_matrix(y_true, y_pred)\n",
        "    # Only use the labels that appear in the data\n",
        "    #classes = classes[unique_labels(y_true, y_pred)]\n",
        "    if normalize:\n",
        "        cm = cm.astype('float') / cm.sum(axis=1)[:, np.newaxis]\n",
        "        print(\"Normalized confusion matrix\")\n",
        "    else:\n",
        "        print('Confusion matrix, without normalization')\n",
        "\n",
        "    print(cm)\n",
        "\n",
        "    fig, ax = plt.subplots(figsize=(9,9))\n",
        "    im = ax.imshow(cm, interpolation='nearest', cmap=cmap)\n",
        "    #ax.figure.colorbar(im, ax=ax)\n",
        "    # We want to show all ticks...\n",
        "    ax.set(xticks=np.arange(cm.shape[1]),\n",
        "           yticks=np.arange(cm.shape[0]),\n",
        "           # ... and label them with the respective list entries\n",
        "           xticklabels=classes, yticklabels=classes,\n",
        "           title=title,\n",
        "           ylabel='True label',\n",
        "           xlabel='Predicted label')\n",
        "\n",
        "    # Rotate the tick labels and set their alignment.\n",
        "    plt.setp(ax.get_xticklabels(), rotation=45, ha=\"right\",\n",
        "             rotation_mode=\"anchor\")\n",
        "\n",
        "    # Loop over data dimensions and create text annotations.\n",
        "    fmt = '.2f' if normalize else 'd'\n",
        "    thresh = cm.max() / 2.\n",
        "    for i in range(cm.shape[0]):\n",
        "        for j in range(cm.shape[1]):\n",
        "            ax.text(j, i, format(cm[i, j], fmt),\n",
        "                    ha=\"center\", va=\"center\",\n",
        "                    color=\"white\" if cm[i, j] > thresh else \"black\")\n",
        "    fig.tight_layout()\n",
        "    return ax\n",
        "\n",
        "\n",
        "np.set_printoptions(precision=2)\n",
        "\n",
        "plot_confusion_matrix(y_true, y_pred, classes=class_names, normalize=True,\n",
        "                      title='Normalized confusion matrix')\n",
        "\n"
      ],
      "execution_count": 0,
      "outputs": []
    },
    {
      "cell_type": "markdown",
      "metadata": {
        "id": "Dcn7_dqA2wbA",
        "colab_type": "text"
      },
      "source": [
        "## Predicting Indivisual Images"
      ]
    },
    {
      "cell_type": "code",
      "metadata": {
        "id": "xv4N5Zvw2zUD",
        "colab_type": "code",
        "colab": {}
      },
      "source": [
        "n = 99 #do not exceed (number of test image - 1)\n",
        "\n",
        "plt.imshow(x_test[n])\n",
        "plt.show()\n",
        "\n",
        "true_label = np.argmax(y_test,axis=1)[n]\n",
        "print(\"Gambar Yang Benar Adalah:\",true_label,\":\",class_names[true_label])\n",
        "prediction = model.predict(x_test[n][np.newaxis,...])[0]\n",
        "print(\"prediksi Value:\",prediction)\n",
        "predicted_label = np.argmax(prediction)\n",
        "print(\"prediksi gambar:\",predicted_label,\":\",class_names[predicted_label])\n",
        "\n",
        "if true_label == predicted_label:\n",
        "    print(\"Prediksi Benar\")\n",
        "else:\n",
        "    print(\"Prediksi Salah\")"
      ],
      "execution_count": 0,
      "outputs": []
    },
    {
      "cell_type": "code",
      "metadata": {
        "id": "GJpoh0PRsJpw",
        "colab_type": "code",
        "colab": {}
      },
      "source": [
        "from keras import backend as K\n",
        "# This line must be executed before loading Keras model.\n",
        "K.set_learning_phase(0)"
      ],
      "execution_count": 0,
      "outputs": []
    },
    {
      "cell_type": "code",
      "metadata": {
        "colab_type": "code",
        "id": "Bd99VdB-9oOA",
        "colab": {}
      },
      "source": [
        "from keras.models import load_model\n",
        "model = load_model('./DeteksiPenyakitTanaman.hdf5')\n",
        "print(model.outputs)\n",
        "print(model.inputs)"
      ],
      "execution_count": 0,
      "outputs": []
    },
    {
      "cell_type": "code",
      "metadata": {
        "id": "2S5ePaWgWt5l",
        "colab_type": "code",
        "colab": {}
      },
      "source": [
        ""
      ],
      "execution_count": 0,
      "outputs": []
    },
    {
      "cell_type": "code",
      "metadata": {
        "id": "zek0TvZUATt0",
        "colab_type": "code",
        "colab": {}
      },
      "source": [
        "import tensorflow as tf\n",
        "gf = tf.GraphDef()\n",
        "gf.ParseFromString(open('/content/DeteksiPenyakitTanaman.hdf5','rb').read())\n",
        "[n.name + '=>' +  n.op for n in gf.node if n.op in ( 'Softmax','Placeholder')]"
      ],
      "execution_count": 0,
      "outputs": []
    },
    {
      "cell_type": "markdown",
      "metadata": {
        "id": "f8IvRelNtRyr",
        "colab_type": "text"
      },
      "source": [
        "Membuat File Tensorflow"
      ]
    },
    {
      "cell_type": "code",
      "metadata": {
        "id": "yGBqHYV7RDKz",
        "colab_type": "code",
        "colab": {}
      },
      "source": [
        "input_fld = '/content'\n",
        "weight_file = 'DeteksiPenyakitTanaman.hdf5'\n",
        "output_node_names_of_input_network = \"pred0\" #comma separated\n",
        "write_graph_def_ascii_flag = True\n",
        "output_node_names_of_final_network = 'output_node' #comma separated\n",
        "output_graph_name = 'constant_graph_weights.pb'"
      ],
      "execution_count": 0,
      "outputs": []
    },
    {
      "cell_type": "code",
      "metadata": {
        "id": "a1wfPB62RIAj",
        "colab_type": "code",
        "colab": {}
      },
      "source": [
        "from keras.models import load_model\n",
        "import tensorflow as tf\n",
        "import os\n",
        "import os.path as osp\n",
        "\n",
        "output_fld = input_fld + 'tensorflow_model/'\n",
        "if not os.path.isdir(output_fld):\n",
        "    os.mkdir(output_fld)\n",
        "weight_file_path = osp.join(input_fld, weight_file)"
      ],
      "execution_count": 0,
      "outputs": []
    },
    {
      "cell_type": "code",
      "metadata": {
        "id": "uWS5oKTTRLoB",
        "colab_type": "code",
        "colab": {}
      },
      "source": [
        "net_model = load_model(weight_file_path)\n",
        "\n",
        "num_output = len(output_node_names_of_input_network.split(','))\n",
        "pred_node_names = output_node_names_of_final_network.split(',')\n",
        "pred = [None]*num_output\n",
        "for i in range(num_output):\n",
        "    pred[i] = tf.identity(net_model.output[i], name=pred_node_names[i])\n",
        "print('output nodes names are: ', pred_node_names)"
      ],
      "execution_count": 0,
      "outputs": []
    },
    {
      "cell_type": "markdown",
      "metadata": {
        "id": "3MZy39MYxDhL",
        "colab_type": "text"
      },
      "source": [
        "Input Argumen"
      ]
    },
    {
      "cell_type": "code",
      "metadata": {
        "id": "Z1J1HH4UtW79",
        "colab_type": "code",
        "colab": {}
      },
      "source": [
        "import argparse\n",
        "parser = argparse.ArgumentParser(description='set input arguments')\n",
        "parser.add_argument('-content', action=\"store\", \n",
        "                    dest='content', type=str, default='.')\n",
        "parser.add_argument('-path', action=\"store\", \n",
        "                    dest='path', type=str, default='')\n",
        "parser.add_argument('-input_model_file', action=\"store\", \n",
        "                    dest='input_model_file', type=str, default='DeteksiPenyakitTanaman.hdf5')\n",
        "parser.add_argument('-output_model_file', action=\"store\", \n",
        "                    dest='output_model_file', type=str, default='')\n",
        "parser.add_argument('-to', action=\"store\", \n",
        "                    dest='output_graphdef_file', type=str, default='model.ascii')\n",
        "parser.add_argument('-num_outputs', action=\"store\", \n",
        "                    dest='num_outputs', type=int, default=1)\n",
        "parser.add_argument('-graph_def', action=\"store\", \n",
        "                    dest='graph_def', type=bool, default=False)\n",
        "parser.add_argument('-output_node_prefix', action=\"store\", \n",
        "                    dest='output_node_prefix', type=str, default='output_node')\n",
        "parser.add_argument('-quantize', action=\"store\", \n",
        "                    dest='quantize', type=bool, default=False)\n",
        "parser.add_argument('-theano_backend', action=\"store\", \n",
        "                    dest='theano_backend', type=bool, default=False)\n",
        "parser.add_argument('-f')\n",
        "args = parser.parse_args()\n",
        "parser.print_help()\n",
        "print('input args: ', args)\n",
        "\n",
        "if args.theano_backend is True and args.quantize is True:\n",
        "    raise ValueError(\"Quantize feature does not work with theano backend.\")"
      ],
      "execution_count": 0,
      "outputs": []
    },
    {
      "cell_type": "markdown",
      "metadata": {
        "id": "Ip1HBVtgxKl5",
        "colab_type": "text"
      },
      "source": [
        "Inisialisasi"
      ]
    },
    {
      "cell_type": "code",
      "metadata": {
        "id": "33D-d4VqtYzz",
        "colab_type": "code",
        "colab": {}
      },
      "source": [
        "from keras.models import load_model\n",
        "import tensorflow as tf\n",
        "from pathlib import Path\n",
        "from keras import backend as K\n",
        "\n",
        "path =  args.content if args.path == '' else args.path\n",
        "if args.output_model_file == '':\n",
        "    args.output_model_file = str(Path(args.input_model_file).name) + '.pb'\n",
        "Path(path).mkdir(parents=True, exist_ok=True)    \n",
        "weight_file_path = str(Path(args.content) / args.input_model_file)"
      ],
      "execution_count": 0,
      "outputs": []
    },
    {
      "cell_type": "markdown",
      "metadata": {
        "id": "_dhfkB_JxT_C",
        "colab_type": "text"
      },
      "source": [
        "Load keras model and rename output"
      ]
    },
    {
      "cell_type": "code",
      "metadata": {
        "id": "Ca39x9Voto1Q",
        "colab_type": "code",
        "colab": {}
      },
      "source": [
        "K.set_learning_phase(0)\n",
        "if args.theano_backend:\n",
        "    K.set_image_data_format('channels_first')\n",
        "else:\n",
        "    K.set_image_data_format('channels_last')\n",
        "\n",
        "try:\n",
        "    net_model = load_model(weight_file_path)\n",
        "except ValueError as err:\n",
        "    print('''Input file specified ({}) only holds the weights, and not the model defenition.\n",
        "    Save the model using mode.save(filename.h5) which will contain the network architecture\n",
        "    as well as its weights. \n",
        "    If the model is saved using model.save_weights(filename.h5), the model architecture is \n",
        "    expected to be saved separately in a json format and loaded prior to loading the weights.\n",
        "    Check the keras documentation for more details (https://keras.io/getting-started/faq/)'''\n",
        "          .format(weight_file_path))\n",
        "    raise err\n",
        "num_output = args.num_outputs\n",
        "pred = [None]*num_output\n",
        "pred_node_names = [None]*num_output\n",
        "for i in range(num_output):\n",
        "    pred_node_names[i] = args.output_node_prefix+str(i)\n",
        "    pred[i] = tf.identity(net_model.outputs[i], name=pred_node_names[i])\n",
        "print('output nodes names are: ', pred_node_names)"
      ],
      "execution_count": 0,
      "outputs": []
    },
    {
      "cell_type": "code",
      "metadata": {
        "id": "GdxZxPaPtuY4",
        "colab_type": "code",
        "colab": {}
      },
      "source": [
        "sess = K.get_session()\n",
        "\n",
        "if args.graph_def:\n",
        "    f = args.output_graphdef_file \n",
        "    tf.train.write_graph(sess.graph.as_graph_def(), path, f, as_text=True)\n",
        "    print('saved the graph definition in ascii format at: ', str(Path(path) / f))"
      ],
      "execution_count": 0,
      "outputs": []
    },
    {
      "cell_type": "code",
      "metadata": {
        "id": "fIqZaZYCtzGJ",
        "colab_type": "code",
        "colab": {}
      },
      "source": [
        "from tensorflow.python.framework import graph_util\n",
        "from tensorflow.python.framework import graph_io\n",
        "from tensorflow.tools.graph_transforms import TransformGraph\n",
        "if args.quantize:\n",
        "    transforms = [\"quantize_weights\", \"quantize_nodes\"]\n",
        "    transformed_graph_def = TransformGraph(sess.graph.as_graph_def(), [], pred_node_names, transforms)\n",
        "    constant_graph = graph_util.convert_variables_to_constants(sess, transformed_graph_def, pred_node_names)\n",
        "else:\n",
        "    constant_graph = graph_util.convert_variables_to_constants(sess, sess.graph.as_graph_def(), pred_node_names)    \n",
        "graph_io.write_graph(constant_graph, path, args.output_model_file, as_text=False)\n",
        "print('saved the freezed graph (ready for inference) at: ', str(Path(output_fld) / args.output_model_file))"
      ],
      "execution_count": 0,
      "outputs": []
    },
    {
      "cell_type": "code",
      "metadata": {
        "id": "wN7-V_9lt5sY",
        "colab_type": "code",
        "colab": {}
      },
      "source": [
        "import tensorflow as tf\n",
        "from tensorflow.python.platform import gfile\n",
        "\n",
        "f = gfile.FastGFile(\"/content/DeteksiPenyakitTanaman.hdf5.pb\", 'rb')\n",
        "graph_def = tf.GraphDef()\n",
        "# Parses a serialized binary message into the current message.\n",
        "graph_def.ParseFromString(f.read())\n",
        "f.close()\n",
        "\n",
        "sess = tf.Session()\n",
        "sess.graph.as_default()\n",
        "# Import a serialized TensorFlow `GraphDef` protocol buffer\n",
        "# and place into the current default `Graph`.\n",
        "tf.import_graph_def(graph_def)"
      ],
      "execution_count": 0,
      "outputs": []
    }
  ]
}